{
  "nbformat": 4,
  "nbformat_minor": 0,
  "metadata": {
    "colab": {
      "provenance": []
    },
    "kernelspec": {
      "name": "python3",
      "display_name": "Python 3"
    },
    "language_info": {
      "name": "python"
    }
  },
  "cells": [
    {
      "cell_type": "markdown",
      "source": [
        "# Data Extraction and Test Analysis for Websites"
      ],
      "metadata": {
        "id": "cLPmUVTQeO0R"
      }
    },
    {
      "cell_type": "markdown",
      "source": [
        "## Objective:\n",
        "\n",
        "The objective of this assignment is to extract textual data articles from the given URL and perform text analysis to compute variables that are explained below.\n"
      ],
      "metadata": {
        "id": "Rzwe-wIBfJ7_"
      }
    },
    {
      "cell_type": "code",
      "source": [
        "!pip install pyphen"
      ],
      "metadata": {
        "colab": {
          "base_uri": "https://localhost:8080/"
        },
        "id": "oO54raPl0FmS",
        "outputId": "b999aa7e-0235-4844-c249-abbc40fa4efa"
      },
      "execution_count": null,
      "outputs": [
        {
          "output_type": "stream",
          "name": "stdout",
          "text": [
            "Looking in indexes: https://pypi.org/simple, https://us-python.pkg.dev/colab-wheels/public/simple/\n",
            "Requirement already satisfied: pyphen in /usr/local/lib/python3.10/dist-packages (0.14.0)\n"
          ]
        }
      ]
    },
    {
      "cell_type": "code",
      "source": [
        "# imports\n",
        "\n",
        "import re\n",
        "import os\n",
        "import nltk\n",
        "import shutil\n",
        "import requests\n",
        "import pyphen\n",
        "import numpy as np\n",
        "import pandas as pd\n",
        "from bs4 import BeautifulSoup\n",
        "from nltk.tokenize import word_tokenize\n",
        "nltk.download('punkt')"
      ],
      "metadata": {
        "id": "3JlaDCt2f1g5",
        "colab": {
          "base_uri": "https://localhost:8080/"
        },
        "outputId": "22f74f3e-58f2-4676-b329-98b137ae0e60"
      },
      "execution_count": null,
      "outputs": [
        {
          "output_type": "stream",
          "name": "stderr",
          "text": [
            "[nltk_data] Downloading package punkt to /root/nltk_data...\n",
            "[nltk_data]   Package punkt is already up-to-date!\n"
          ]
        },
        {
          "output_type": "execute_result",
          "data": {
            "text/plain": [
              "True"
            ]
          },
          "metadata": {},
          "execution_count": 189
        }
      ]
    },
    {
      "cell_type": "code",
      "source": [
        "# paths\n",
        "\n",
        "input_data_path = \"/content/drive/MyDrive/intership project/Input.xlsx\"\n",
        "stopwords_path = \"/content/drive/MyDrive/intership project/StopWords\"\n",
        "masterdict_path = \"/content/drive/MyDrive/intership project/MasterDictionary\""
      ],
      "metadata": {
        "id": "vfISoSEhgLRN"
      },
      "execution_count": null,
      "outputs": []
    },
    {
      "cell_type": "markdown",
      "source": [
        "## Step 1: Data Extraction\n",
        "\n",
        "Input.xlsx\n",
        "* For each of the articles, given in the input.xlsx file, extract the article text and save the extracted article in a text file with URL_ID as its file name.\n",
        "* While extracting text, please make sure your program extracts only the article title and the article text. It should not extract the website header, footer, or anything other than the article text.\n"
      ],
      "metadata": {
        "id": "tf4k9vvfe_q3"
      }
    },
    {
      "cell_type": "code",
      "source": [
        "stopwords_files = os.listdir(stopwords_path)\n",
        "masterdict_files = os.listdir(masterdict_path)"
      ],
      "metadata": {
        "id": "EZyJimEnKiKn"
      },
      "execution_count": null,
      "outputs": []
    },
    {
      "cell_type": "code",
      "source": [
        "input_data = pd.read_excel(input_data_path)\n",
        "input_data.head()"
      ],
      "metadata": {
        "colab": {
          "base_uri": "https://localhost:8080/",
          "height": 206
        },
        "id": "EoTIluGof6du",
        "outputId": "f437c0aa-83ba-44ac-f067-ef8a5e9ce8cc"
      },
      "execution_count": null,
      "outputs": [
        {
          "output_type": "execute_result",
          "data": {
            "text/plain": [
              "   URL_ID                                                URL\n",
              "0      37  https://insights.blackcoffer.com/ai-in-healthc...\n",
              "1      38  https://insights.blackcoffer.com/what-if-the-c...\n",
              "2      39  https://insights.blackcoffer.com/what-jobs-wil...\n",
              "3      40  https://insights.blackcoffer.com/will-machine-...\n",
              "4      41  https://insights.blackcoffer.com/will-ai-repla..."
            ],
            "text/html": [
              "\n",
              "  <div id=\"df-e1be1bd3-c485-4ca3-880f-e59474408af1\">\n",
              "    <div class=\"colab-df-container\">\n",
              "      <div>\n",
              "<style scoped>\n",
              "    .dataframe tbody tr th:only-of-type {\n",
              "        vertical-align: middle;\n",
              "    }\n",
              "\n",
              "    .dataframe tbody tr th {\n",
              "        vertical-align: top;\n",
              "    }\n",
              "\n",
              "    .dataframe thead th {\n",
              "        text-align: right;\n",
              "    }\n",
              "</style>\n",
              "<table border=\"1\" class=\"dataframe\">\n",
              "  <thead>\n",
              "    <tr style=\"text-align: right;\">\n",
              "      <th></th>\n",
              "      <th>URL_ID</th>\n",
              "      <th>URL</th>\n",
              "    </tr>\n",
              "  </thead>\n",
              "  <tbody>\n",
              "    <tr>\n",
              "      <th>0</th>\n",
              "      <td>37</td>\n",
              "      <td>https://insights.blackcoffer.com/ai-in-healthc...</td>\n",
              "    </tr>\n",
              "    <tr>\n",
              "      <th>1</th>\n",
              "      <td>38</td>\n",
              "      <td>https://insights.blackcoffer.com/what-if-the-c...</td>\n",
              "    </tr>\n",
              "    <tr>\n",
              "      <th>2</th>\n",
              "      <td>39</td>\n",
              "      <td>https://insights.blackcoffer.com/what-jobs-wil...</td>\n",
              "    </tr>\n",
              "    <tr>\n",
              "      <th>3</th>\n",
              "      <td>40</td>\n",
              "      <td>https://insights.blackcoffer.com/will-machine-...</td>\n",
              "    </tr>\n",
              "    <tr>\n",
              "      <th>4</th>\n",
              "      <td>41</td>\n",
              "      <td>https://insights.blackcoffer.com/will-ai-repla...</td>\n",
              "    </tr>\n",
              "  </tbody>\n",
              "</table>\n",
              "</div>\n",
              "      <button class=\"colab-df-convert\" onclick=\"convertToInteractive('df-e1be1bd3-c485-4ca3-880f-e59474408af1')\"\n",
              "              title=\"Convert this dataframe to an interactive table.\"\n",
              "              style=\"display:none;\">\n",
              "        \n",
              "  <svg xmlns=\"http://www.w3.org/2000/svg\" height=\"24px\"viewBox=\"0 0 24 24\"\n",
              "       width=\"24px\">\n",
              "    <path d=\"M0 0h24v24H0V0z\" fill=\"none\"/>\n",
              "    <path d=\"M18.56 5.44l.94 2.06.94-2.06 2.06-.94-2.06-.94-.94-2.06-.94 2.06-2.06.94zm-11 1L8.5 8.5l.94-2.06 2.06-.94-2.06-.94L8.5 2.5l-.94 2.06-2.06.94zm10 10l.94 2.06.94-2.06 2.06-.94-2.06-.94-.94-2.06-.94 2.06-2.06.94z\"/><path d=\"M17.41 7.96l-1.37-1.37c-.4-.4-.92-.59-1.43-.59-.52 0-1.04.2-1.43.59L10.3 9.45l-7.72 7.72c-.78.78-.78 2.05 0 2.83L4 21.41c.39.39.9.59 1.41.59.51 0 1.02-.2 1.41-.59l7.78-7.78 2.81-2.81c.8-.78.8-2.07 0-2.86zM5.41 20L4 18.59l7.72-7.72 1.47 1.35L5.41 20z\"/>\n",
              "  </svg>\n",
              "      </button>\n",
              "      \n",
              "  <style>\n",
              "    .colab-df-container {\n",
              "      display:flex;\n",
              "      flex-wrap:wrap;\n",
              "      gap: 12px;\n",
              "    }\n",
              "\n",
              "    .colab-df-convert {\n",
              "      background-color: #E8F0FE;\n",
              "      border: none;\n",
              "      border-radius: 50%;\n",
              "      cursor: pointer;\n",
              "      display: none;\n",
              "      fill: #1967D2;\n",
              "      height: 32px;\n",
              "      padding: 0 0 0 0;\n",
              "      width: 32px;\n",
              "    }\n",
              "\n",
              "    .colab-df-convert:hover {\n",
              "      background-color: #E2EBFA;\n",
              "      box-shadow: 0px 1px 2px rgba(60, 64, 67, 0.3), 0px 1px 3px 1px rgba(60, 64, 67, 0.15);\n",
              "      fill: #174EA6;\n",
              "    }\n",
              "\n",
              "    [theme=dark] .colab-df-convert {\n",
              "      background-color: #3B4455;\n",
              "      fill: #D2E3FC;\n",
              "    }\n",
              "\n",
              "    [theme=dark] .colab-df-convert:hover {\n",
              "      background-color: #434B5C;\n",
              "      box-shadow: 0px 1px 3px 1px rgba(0, 0, 0, 0.15);\n",
              "      filter: drop-shadow(0px 1px 2px rgba(0, 0, 0, 0.3));\n",
              "      fill: #FFFFFF;\n",
              "    }\n",
              "  </style>\n",
              "\n",
              "      <script>\n",
              "        const buttonEl =\n",
              "          document.querySelector('#df-e1be1bd3-c485-4ca3-880f-e59474408af1 button.colab-df-convert');\n",
              "        buttonEl.style.display =\n",
              "          google.colab.kernel.accessAllowed ? 'block' : 'none';\n",
              "\n",
              "        async function convertToInteractive(key) {\n",
              "          const element = document.querySelector('#df-e1be1bd3-c485-4ca3-880f-e59474408af1');\n",
              "          const dataTable =\n",
              "            await google.colab.kernel.invokeFunction('convertToInteractive',\n",
              "                                                     [key], {});\n",
              "          if (!dataTable) return;\n",
              "\n",
              "          const docLinkHtml = 'Like what you see? Visit the ' +\n",
              "            '<a target=\"_blank\" href=https://colab.research.google.com/notebooks/data_table.ipynb>data table notebook</a>'\n",
              "            + ' to learn more about interactive tables.';\n",
              "          element.innerHTML = '';\n",
              "          dataTable['output_type'] = 'display_data';\n",
              "          await google.colab.output.renderOutput(dataTable, element);\n",
              "          const docLink = document.createElement('div');\n",
              "          docLink.innerHTML = docLinkHtml;\n",
              "          element.appendChild(docLink);\n",
              "        }\n",
              "      </script>\n",
              "    </div>\n",
              "  </div>\n",
              "  "
            ]
          },
          "metadata": {},
          "execution_count": 192
        }
      ]
    },
    {
      "cell_type": "code",
      "source": [
        "class DataExtraction:\n",
        "  def __init__(self, dataframe):\n",
        "\n",
        "    self.dataframe = dataframe\n",
        "    self.dataframe_length = len(dataframe)\n",
        "    self.all_files = []\n",
        "\n",
        "\n",
        "  def create_dir(self, dir_path):\n",
        "    os.makedirs(dir_path)\n",
        "\n",
        "\n",
        "  def delete_dir(self, dir_path):\n",
        "    shutil.rmtree(dir_path)\n",
        "\n",
        "\n",
        "  def converttostring(self, paragraphs):\n",
        "    fulltext = []\n",
        "    for para in paragraphs:\n",
        "      para = para.get_text()\n",
        "      if len(para)<=1:\n",
        "        fulltext.append(para)\n",
        "      else:\n",
        "        sentence = para.split(\" \")\n",
        "        for word in sentence:\n",
        "          fulltext.append(word)\n",
        "    fulltext = \" \".join(fulltext)\n",
        "\n",
        "    return fulltext\n",
        "\n",
        "\n",
        "  def extract_data_to_files(self, dir_path):\n",
        "\n",
        "    if os.path.exists(dir_path):\n",
        "      pass\n",
        "    else:\n",
        "      self.create_dir(dir_path = dir_path)\n",
        "\n",
        "\n",
        "    for index in range(self.dataframe_length):\n",
        "\n",
        "      URL_ID, URL = input_data.iloc[index].tolist()\n",
        "\n",
        "      response = requests.get(URL)\n",
        "      html_content = response.content\n",
        "      soup = BeautifulSoup(html_content, \"html.parser\")\n",
        "\n",
        "      title = soup.title.string.split(\" \")\n",
        "      title = title[:-3]\n",
        "      title = \" \".join(title)\n",
        "      paragraphs = soup.findAll(\"p\", attrs= lambda attrs: not attrs)\n",
        "\n",
        "      fulltext = self.converttostring(paragraphs)\n",
        "      fulltext = title + \". \" + fulltext\n",
        "      self.all_files.append(fulltext)\n",
        "\n",
        "      with open(f\"{dir_path}/{URL_ID}.txt\", \"a\") as file:\n",
        "        file.write(fulltext)\n",
        "\n",
        "  def retrieve_files(self):\n",
        "    updated_text_files = []\n",
        "    for textfile in all_files:\n",
        "      textfile = textfile.split()\n",
        "      textfile = \" \".join(textfile)\n",
        "      updated_text_files.append(textfile)\n",
        "    self.all_files = updated_text_files\n",
        "    return self.all_files\n"
      ],
      "metadata": {
        "id": "43xmDQfMHycD"
      },
      "execution_count": null,
      "outputs": []
    },
    {
      "cell_type": "code",
      "source": [
        "project = DataExtraction(dataframe = input_data)"
      ],
      "metadata": {
        "id": "Af1yWBmHT2zY"
      },
      "execution_count": null,
      "outputs": []
    },
    {
      "cell_type": "code",
      "source": [
        "# project.delete_dir(\"DataExtracted_textfiles\")"
      ],
      "metadata": {
        "id": "PuQAOVNgNYr8"
      },
      "execution_count": null,
      "outputs": []
    },
    {
      "cell_type": "code",
      "source": [
        "project.extract_data_to_files(\"DataExtracted_textfiles\")"
      ],
      "metadata": {
        "id": "dI7XjolPKdEz"
      },
      "execution_count": null,
      "outputs": []
    },
    {
      "cell_type": "code",
      "source": [
        "url = \"https://insights.blackcoffer.com/ai-in-healthcare-to-improve-patient-outcomes/\""
      ],
      "metadata": {
        "id": "eYT4xtPLI5Xz"
      },
      "execution_count": null,
      "outputs": []
    },
    {
      "cell_type": "code",
      "source": [
        "# excludes plus/minus symbol\n",
        "def lower_and_strip_punctuation(text):\n",
        "  text = text.lower()\n",
        "  text = re.sub(r'[^\\w\\s+-]', '', text)\n",
        "  return text"
      ],
      "metadata": {
        "id": "-VSju7cF6whO"
      },
      "execution_count": null,
      "outputs": []
    },
    {
      "cell_type": "code",
      "source": [
        "def read_file_to_list(file_path):\n",
        "  with open(file_path, \"r\",encoding=\"ISO-8859-1\") as file:\n",
        "    content = file.readlines()\n",
        "    content = [lower_and_strip_punctuation(line.strip()) for line in content]\n",
        "    return content"
      ],
      "metadata": {
        "id": "-8Zrt2dX01qR"
      },
      "execution_count": null,
      "outputs": []
    },
    {
      "cell_type": "code",
      "source": [
        "# creating stopwords\n",
        "custom_stopwords = []\n",
        "def create_stopwords(stop_words_files):\n",
        "  for file in stop_words_files:\n",
        "    file_path = f\"/content/drive/MyDrive/intership project/StopWords/{file}\"\n",
        "    file_contents = read_file_to_list(file_path)\n",
        "    custom_stopwords.extend(file_contents)\n",
        "create_stopwords(stopwords_files)"
      ],
      "metadata": {
        "id": "R792zmgA84SC"
      },
      "execution_count": null,
      "outputs": []
    },
    {
      "cell_type": "code",
      "source": [
        "# creating positive and negative words\n",
        "positive_words = read_file_to_list(\"/content/drive/MyDrive/intership project/MasterDictionary/positive-words.txt\")\n",
        "negative_words = read_file_to_list(\"/content/drive/MyDrive/intership project/MasterDictionary/negative-words.txt\")\n",
        "\n",
        "# adding the words that are not in stopwords list\n",
        "positive_words = [word for word in positive_words if word not in custom_stopwords]\n",
        "negative_words = [word for word in negative_words if word not in custom_stopwords]"
      ],
      "metadata": {
        "id": "utiVA58PIZ8Y"
      },
      "execution_count": null,
      "outputs": []
    },
    {
      "cell_type": "code",
      "source": [
        "# tokenize function\n",
        "custom_stopwords = set(custom_stopwords)\n",
        "def filterwords(text, stopwords = custom_stopwords):\n",
        "  text = lower_and_strip_punctuation(text)\n",
        "  tokenized_words = word_tokenize(text)\n",
        "  filtered_words = [word for word in tokenized_words if word not in stopwords]\n",
        "  return filtered_words"
      ],
      "metadata": {
        "id": "-oRZ0NIS5Y9g"
      },
      "execution_count": null,
      "outputs": []
    },
    {
      "cell_type": "code",
      "source": [
        "# to retrieve text files\n",
        "all_files = project.retrieve_files()"
      ],
      "metadata": {
        "id": "Tywq7aqHd6Vi"
      },
      "execution_count": null,
      "outputs": []
    },
    {
      "cell_type": "code",
      "source": [
        "# sentiment analysis\n",
        "positive_score = []\n",
        "negative_score = []\n",
        "polarity_score = []\n",
        "subjective_score = []\n",
        "total_cleaned_words = []\n",
        "\n",
        "for text in all_files:\n",
        "\n",
        "  positive_count = 0\n",
        "  negative_count = 0\n",
        "\n",
        "  filteredwords = filterwords(text)\n",
        "  total_words_after_cleaning = len(filteredwords)\n",
        "\n",
        "  for word in filteredwords:\n",
        "    if word in positive_words:\n",
        "      positive_count += 1\n",
        "    elif word in negative_words:\n",
        "      negative_count += 1\n",
        "\n",
        "  positive_score.append(positive_count)\n",
        "  negative_score.append(negative_count)\n",
        "  total_cleaned_words.append(total_words_after_cleaning)\n",
        "  polarity_score.append((positive_count - negative_count) / ((positive_count + negative_count) + 0.000001))\n",
        "  subjective_score.append((positive_count + negative_count) / ((total_words_after_cleaning) + 0.000001))"
      ],
      "metadata": {
        "id": "UTEtwDwccZZ7"
      },
      "execution_count": null,
      "outputs": []
    },
    {
      "cell_type": "code",
      "source": [
        "def average_sentence_length(text):\n",
        "\n",
        "    sentences = text.split('. ')\n",
        "    num_sentences = len(sentences)\n",
        "    total_words = 0\n",
        "\n",
        "    for sentence in sentences:\n",
        "        words = sentence.split()\n",
        "        total_words += len(words)\n",
        "\n",
        "    average_sentence_length = total_words / num_sentences\n",
        "\n",
        "    return average_sentence_length"
      ],
      "metadata": {
        "id": "08t2rwCMqS1f"
      },
      "execution_count": null,
      "outputs": []
    },
    {
      "cell_type": "code",
      "source": [
        "def calculate_complex_word_percentage(text):\n",
        "    dic = pyphen.Pyphen(lang='en')\n",
        "    words = text.split()\n",
        "    complex_word_count = 0\n",
        "    total_word_count = 0\n",
        "    syllable_count_per_word = []\n",
        "\n",
        "    for word in words:\n",
        "        word = word.rstrip('.,!?')\n",
        "        if word.endswith('es') or word.endswith('ed'):\n",
        "            base_word = word[:-2]\n",
        "        else:\n",
        "            base_word = word\n",
        "\n",
        "        hyphenated_word = dic.inserted(base_word)\n",
        "        syllables = hyphenated_word.count('-') + 1\n",
        "        syllable_count_per_word.append(syllables)\n",
        "\n",
        "        if syllables >= 2 or not word:\n",
        "            complex_word_count += 1\n",
        "\n",
        "        total_word_count += 1\n",
        "\n",
        "    complex_word_percentage = (complex_word_count / total_word_count)\n",
        "\n",
        "    return complex_word_percentage, complex_word_count, syllable_count_per_word"
      ],
      "metadata": {
        "id": "4pEydI8xP77y"
      },
      "execution_count": null,
      "outputs": []
    },
    {
      "cell_type": "code",
      "source": [
        "def fog_index(text):\n",
        "  length = average_sentence_length(text)\n",
        "  percent, _, _ = calculate_complex_word_percentage(text)\n",
        "  fogindex = 0.4 * (length + percent)\n",
        "  return fogindex"
      ],
      "metadata": {
        "id": "oCuqw0vw17J4"
      },
      "execution_count": null,
      "outputs": []
    },
    {
      "cell_type": "code",
      "source": [
        "def average_no_words_per_sentence(text):\n",
        "    sentences = text.split('. ')\n",
        "    num_sentences = len(sentences)\n",
        "    total_words = 0\n",
        "\n",
        "    for sentence in sentences:\n",
        "        words = sentence.split()\n",
        "        total_words += len(words)\n",
        "\n",
        "    average_no_words_per_sentence = total_words / num_sentences\n",
        "\n",
        "    return average_no_words_per_sentence"
      ],
      "metadata": {
        "id": "woFoYrQd3Nqe"
      },
      "execution_count": null,
      "outputs": []
    },
    {
      "cell_type": "code",
      "source": [
        "def count_personal_pronouns(text):\n",
        "    pattern = r'\\b(I|we|my|ours|us)\\b'\n",
        "    matches = re.findall(pattern, text, flags=re.IGNORECASE)\n",
        "\n",
        "    count = len(matches)\n",
        "\n",
        "    return count"
      ],
      "metadata": {
        "id": "HhoJQfhn8KDW"
      },
      "execution_count": null,
      "outputs": []
    },
    {
      "cell_type": "code",
      "source": [
        "def calculate_average_word_length(text):\n",
        "    words = text.split()\n",
        "    total_characters = sum(len(word) for word in words)\n",
        "    total_words = len(words)\n",
        "    average_word_length = total_characters / total_words\n",
        "\n",
        "    return average_word_length"
      ],
      "metadata": {
        "id": "-0n8ZI6j_2Xq"
      },
      "execution_count": null,
      "outputs": []
    },
    {
      "cell_type": "code",
      "source": [
        "data_dict = {\n",
        "    \"URL_ID\" : input_data[\"URL_ID\"].tolist(),\n",
        "    \"URL\" : input_data[\"URL\"].tolist(),\n",
        "    \"POSITIVE SCORE\" : positive_score,\n",
        "    \"NEGATIVE SCORE\" : negative_score,\n",
        "    \"POLARITY SCORE\" : polarity_score,\n",
        "    \"SUBJECTIVE SCORE\" : subjective_score,\n",
        "    \"AVG SENTENCE LENGTH\" : [],\n",
        "    \"PERCENTAGE OF COMPLEX WORDS\" : [],\n",
        "    \"FOG INDEX\" : [],\n",
        "    \"AVG NUMBER OF WORDS PER SENTENCE\" : [],\n",
        "    \"COMPLEX WORD COUNT\": [],\n",
        "    \"WORD COUNT\": total_cleaned_words,\n",
        "    \"SYLLABLE PER WORD\": [],\n",
        "    \"PERSONAL PRONOUNS\": [],\n",
        "    \"AVG WORD LENGTH\": []\n",
        "}"
      ],
      "metadata": {
        "id": "JCc-9DvIcj-k"
      },
      "execution_count": null,
      "outputs": []
    },
    {
      "cell_type": "code",
      "source": [
        "def textanalysis(files, data_dict):\n",
        "  for item in files:\n",
        "    data_dict[\"AVG SENTENCE LENGTH\"].append(average_sentence_length(item))\n",
        "    data_dict[\"FOG INDEX\"].append(fog_index(item))\n",
        "    data_dict[\"AVG NUMBER OF WORDS PER SENTENCE\"].append(average_no_words_per_sentence(item))\n",
        "    data_dict[\"PERSONAL PRONOUNS\"].append(count_personal_pronouns(item))\n",
        "    data_dict[\"AVG WORD LENGTH\"].append(calculate_average_word_length(item))\n",
        "    a, b, c = calculate_complex_word_percentage(item)\n",
        "    data_dict[\"PERCENTAGE OF COMPLEX WORDS\"].append(a)\n",
        "    data_dict[\"COMPLEX WORD COUNT\"].append(b)\n",
        "    data_dict[\"SYLLABLE PER WORD\"].append(c)\n",
        "  return data_dict"
      ],
      "metadata": {
        "id": "voS3GWRhV0Kh"
      },
      "execution_count": null,
      "outputs": []
    },
    {
      "cell_type": "code",
      "source": [
        "output = textanalysis(files = all_files, data_dict = data_dict)"
      ],
      "metadata": {
        "id": "XuxJQSdccaPn"
      },
      "execution_count": null,
      "outputs": []
    },
    {
      "cell_type": "code",
      "source": [
        "Output_Data_Structure = pd.DataFrame(output)"
      ],
      "metadata": {
        "id": "wMJKSlkCiB5g"
      },
      "execution_count": null,
      "outputs": []
    },
    {
      "cell_type": "code",
      "source": [
        "Output_Data_Structure.to_excel(\"Output_Data.xlsx\", index = False)"
      ],
      "metadata": {
        "id": "5VN5tuAujB9_"
      },
      "execution_count": null,
      "outputs": []
    },
    {
      "cell_type": "code",
      "source": [
        "Output_Data_Structure"
      ],
      "metadata": {
        "colab": {
          "base_uri": "https://localhost:8080/",
          "height": 1000
        },
        "id": "qBk4tw09kKbw",
        "outputId": "8d36108f-3c1b-4bd5-e6cf-ac6a3d8b67b4"
      },
      "execution_count": null,
      "outputs": [
        {
          "output_type": "execute_result",
          "data": {
            "text/plain": [
              "     URL_ID                                                URL  \\\n",
              "0        37  https://insights.blackcoffer.com/ai-in-healthc...   \n",
              "1        38  https://insights.blackcoffer.com/what-if-the-c...   \n",
              "2        39  https://insights.blackcoffer.com/what-jobs-wil...   \n",
              "3        40  https://insights.blackcoffer.com/will-machine-...   \n",
              "4        41  https://insights.blackcoffer.com/will-ai-repla...   \n",
              "..      ...                                                ...   \n",
              "109     146  https://insights.blackcoffer.com/blockchain-fo...   \n",
              "110     147  https://insights.blackcoffer.com/the-future-of...   \n",
              "111     148  https://insights.blackcoffer.com/big-data-anal...   \n",
              "112     149  https://insights.blackcoffer.com/business-anal...   \n",
              "113     150  https://insights.blackcoffer.com/challenges-an...   \n",
              "\n",
              "     POSITIVE SCORE  NEGATIVE SCORE  POLARITY SCORE  SUBJECTIVE SCORE  \\\n",
              "0                61              32        0.311828          0.097895   \n",
              "1                58              38        0.208333          0.175824   \n",
              "2                64              37        0.267327          0.125155   \n",
              "3                59              27        0.372093          0.142149   \n",
              "4                56              24        0.400000          0.107817   \n",
              "..              ...             ...             ...               ...   \n",
              "109              22              26       -0.083333          0.116788   \n",
              "110              32               9        0.560976          0.080868   \n",
              "111              26              44       -0.257143          0.125673   \n",
              "112              27               3        0.800000          0.107143   \n",
              "113              31              38       -0.101449          0.143154   \n",
              "\n",
              "     AVG SENTENCE LENGTH  PERCENTAGE OF COMPLEX WORDS  FOG INDEX  \\\n",
              "0              23.733333                     0.432022   9.666142   \n",
              "1              20.735294                     0.263121   8.399366   \n",
              "2              19.929412                     0.399646   8.131623   \n",
              "3              19.487805                     0.306008   7.917525   \n",
              "4              23.583333                     0.337456   9.568316   \n",
              "..                   ...                          ...        ...   \n",
              "109            17.431373                     0.363330   7.117881   \n",
              "110            22.833333                     0.346715   9.272019   \n",
              "111            16.820896                     0.371783   6.877072   \n",
              "112            21.730769                     0.405310   8.854432   \n",
              "113            15.953846                     0.331726   6.514229   \n",
              "\n",
              "     AVG NUMBER OF WORDS PER SENTENCE  COMPLEX WORD COUNT  WORD COUNT  \\\n",
              "0                           23.733333                 769         950   \n",
              "1                           20.735294                 371         546   \n",
              "2                           19.929412                 677         807   \n",
              "3                           19.487805                 489         605   \n",
              "4                           23.583333                 573         742   \n",
              "..                                ...                 ...         ...   \n",
              "109                         17.431373                 323         411   \n",
              "110                         22.833333                 380         507   \n",
              "111                         16.820896                 419         557   \n",
              "112                         21.730769                 229         280   \n",
              "113                         15.953846                 344         482   \n",
              "\n",
              "                                     SYLLABLE PER WORD  PERSONAL PRONOUNS  \\\n",
              "0    [1, 1, 2, 1, 2, 2, 2, 4, 1, 2, 1, 1, 1, 2, 1, ...                  1   \n",
              "1    [1, 1, 1, 2, 1, 2, 1, 1, 3, 2, 1, 1, 4, 1, 2, ...                  7   \n",
              "2    [1, 1, 1, 2, 1, 1, 2, 1, 1, 2, 4, 1, 1, 2, 1, ...                  3   \n",
              "3    [1, 2, 2, 1, 2, 1, 1, 2, 1, 1, 1, 1, 1, 1, 1, ...                 18   \n",
              "4    [1, 1, 2, 1, 1, 1, 1, 1, 2, 4, 1, 1, 1, 3, 1, ...                 18   \n",
              "..                                                 ...                ...   \n",
              "109  [2, 1, 2, 4, 1, 1, 3, 2, 1, 1, 1, 3, 1, 1, 1, ...                  9   \n",
              "110  [1, 2, 1, 3, 1, 3, 1, 1, 2, 1, 1, 2, 1, 1, 3, ...                  2   \n",
              "111  [1, 1, 3, 1, 2, 2, 1, 3, 2, 1, 1, 2, 1, 1, 3, ...                  2   \n",
              "112  [2, 3, 1, 1, 2, 2, 3, 1, 1, 4, 3, 2, 1, 4, 1, ...                  0   \n",
              "113  [2, 1, 4, 1, 1, 1, 1, 2, 1, 2, 1, 1, 1, 1, 1, ...                  8   \n",
              "\n",
              "     AVG WORD LENGTH  \n",
              "0           5.796067  \n",
              "1           4.991489  \n",
              "2           5.521251  \n",
              "3           4.910513  \n",
              "4           5.212603  \n",
              "..               ...  \n",
              "109         5.505062  \n",
              "110         5.305657  \n",
              "111         5.187223  \n",
              "112         5.683186  \n",
              "113         5.125362  \n",
              "\n",
              "[114 rows x 15 columns]"
            ],
            "text/html": [
              "\n",
              "  <div id=\"df-3df07788-3f5f-4b21-9550-006e46c6c786\">\n",
              "    <div class=\"colab-df-container\">\n",
              "      <div>\n",
              "<style scoped>\n",
              "    .dataframe tbody tr th:only-of-type {\n",
              "        vertical-align: middle;\n",
              "    }\n",
              "\n",
              "    .dataframe tbody tr th {\n",
              "        vertical-align: top;\n",
              "    }\n",
              "\n",
              "    .dataframe thead th {\n",
              "        text-align: right;\n",
              "    }\n",
              "</style>\n",
              "<table border=\"1\" class=\"dataframe\">\n",
              "  <thead>\n",
              "    <tr style=\"text-align: right;\">\n",
              "      <th></th>\n",
              "      <th>URL_ID</th>\n",
              "      <th>URL</th>\n",
              "      <th>POSITIVE SCORE</th>\n",
              "      <th>NEGATIVE SCORE</th>\n",
              "      <th>POLARITY SCORE</th>\n",
              "      <th>SUBJECTIVE SCORE</th>\n",
              "      <th>AVG SENTENCE LENGTH</th>\n",
              "      <th>PERCENTAGE OF COMPLEX WORDS</th>\n",
              "      <th>FOG INDEX</th>\n",
              "      <th>AVG NUMBER OF WORDS PER SENTENCE</th>\n",
              "      <th>COMPLEX WORD COUNT</th>\n",
              "      <th>WORD COUNT</th>\n",
              "      <th>SYLLABLE PER WORD</th>\n",
              "      <th>PERSONAL PRONOUNS</th>\n",
              "      <th>AVG WORD LENGTH</th>\n",
              "    </tr>\n",
              "  </thead>\n",
              "  <tbody>\n",
              "    <tr>\n",
              "      <th>0</th>\n",
              "      <td>37</td>\n",
              "      <td>https://insights.blackcoffer.com/ai-in-healthc...</td>\n",
              "      <td>61</td>\n",
              "      <td>32</td>\n",
              "      <td>0.311828</td>\n",
              "      <td>0.097895</td>\n",
              "      <td>23.733333</td>\n",
              "      <td>0.432022</td>\n",
              "      <td>9.666142</td>\n",
              "      <td>23.733333</td>\n",
              "      <td>769</td>\n",
              "      <td>950</td>\n",
              "      <td>[1, 1, 2, 1, 2, 2, 2, 4, 1, 2, 1, 1, 1, 2, 1, ...</td>\n",
              "      <td>1</td>\n",
              "      <td>5.796067</td>\n",
              "    </tr>\n",
              "    <tr>\n",
              "      <th>1</th>\n",
              "      <td>38</td>\n",
              "      <td>https://insights.blackcoffer.com/what-if-the-c...</td>\n",
              "      <td>58</td>\n",
              "      <td>38</td>\n",
              "      <td>0.208333</td>\n",
              "      <td>0.175824</td>\n",
              "      <td>20.735294</td>\n",
              "      <td>0.263121</td>\n",
              "      <td>8.399366</td>\n",
              "      <td>20.735294</td>\n",
              "      <td>371</td>\n",
              "      <td>546</td>\n",
              "      <td>[1, 1, 1, 2, 1, 2, 1, 1, 3, 2, 1, 1, 4, 1, 2, ...</td>\n",
              "      <td>7</td>\n",
              "      <td>4.991489</td>\n",
              "    </tr>\n",
              "    <tr>\n",
              "      <th>2</th>\n",
              "      <td>39</td>\n",
              "      <td>https://insights.blackcoffer.com/what-jobs-wil...</td>\n",
              "      <td>64</td>\n",
              "      <td>37</td>\n",
              "      <td>0.267327</td>\n",
              "      <td>0.125155</td>\n",
              "      <td>19.929412</td>\n",
              "      <td>0.399646</td>\n",
              "      <td>8.131623</td>\n",
              "      <td>19.929412</td>\n",
              "      <td>677</td>\n",
              "      <td>807</td>\n",
              "      <td>[1, 1, 1, 2, 1, 1, 2, 1, 1, 2, 4, 1, 1, 2, 1, ...</td>\n",
              "      <td>3</td>\n",
              "      <td>5.521251</td>\n",
              "    </tr>\n",
              "    <tr>\n",
              "      <th>3</th>\n",
              "      <td>40</td>\n",
              "      <td>https://insights.blackcoffer.com/will-machine-...</td>\n",
              "      <td>59</td>\n",
              "      <td>27</td>\n",
              "      <td>0.372093</td>\n",
              "      <td>0.142149</td>\n",
              "      <td>19.487805</td>\n",
              "      <td>0.306008</td>\n",
              "      <td>7.917525</td>\n",
              "      <td>19.487805</td>\n",
              "      <td>489</td>\n",
              "      <td>605</td>\n",
              "      <td>[1, 2, 2, 1, 2, 1, 1, 2, 1, 1, 1, 1, 1, 1, 1, ...</td>\n",
              "      <td>18</td>\n",
              "      <td>4.910513</td>\n",
              "    </tr>\n",
              "    <tr>\n",
              "      <th>4</th>\n",
              "      <td>41</td>\n",
              "      <td>https://insights.blackcoffer.com/will-ai-repla...</td>\n",
              "      <td>56</td>\n",
              "      <td>24</td>\n",
              "      <td>0.400000</td>\n",
              "      <td>0.107817</td>\n",
              "      <td>23.583333</td>\n",
              "      <td>0.337456</td>\n",
              "      <td>9.568316</td>\n",
              "      <td>23.583333</td>\n",
              "      <td>573</td>\n",
              "      <td>742</td>\n",
              "      <td>[1, 1, 2, 1, 1, 1, 1, 1, 2, 4, 1, 1, 1, 3, 1, ...</td>\n",
              "      <td>18</td>\n",
              "      <td>5.212603</td>\n",
              "    </tr>\n",
              "    <tr>\n",
              "      <th>...</th>\n",
              "      <td>...</td>\n",
              "      <td>...</td>\n",
              "      <td>...</td>\n",
              "      <td>...</td>\n",
              "      <td>...</td>\n",
              "      <td>...</td>\n",
              "      <td>...</td>\n",
              "      <td>...</td>\n",
              "      <td>...</td>\n",
              "      <td>...</td>\n",
              "      <td>...</td>\n",
              "      <td>...</td>\n",
              "      <td>...</td>\n",
              "      <td>...</td>\n",
              "      <td>...</td>\n",
              "    </tr>\n",
              "    <tr>\n",
              "      <th>109</th>\n",
              "      <td>146</td>\n",
              "      <td>https://insights.blackcoffer.com/blockchain-fo...</td>\n",
              "      <td>22</td>\n",
              "      <td>26</td>\n",
              "      <td>-0.083333</td>\n",
              "      <td>0.116788</td>\n",
              "      <td>17.431373</td>\n",
              "      <td>0.363330</td>\n",
              "      <td>7.117881</td>\n",
              "      <td>17.431373</td>\n",
              "      <td>323</td>\n",
              "      <td>411</td>\n",
              "      <td>[2, 1, 2, 4, 1, 1, 3, 2, 1, 1, 1, 3, 1, 1, 1, ...</td>\n",
              "      <td>9</td>\n",
              "      <td>5.505062</td>\n",
              "    </tr>\n",
              "    <tr>\n",
              "      <th>110</th>\n",
              "      <td>147</td>\n",
              "      <td>https://insights.blackcoffer.com/the-future-of...</td>\n",
              "      <td>32</td>\n",
              "      <td>9</td>\n",
              "      <td>0.560976</td>\n",
              "      <td>0.080868</td>\n",
              "      <td>22.833333</td>\n",
              "      <td>0.346715</td>\n",
              "      <td>9.272019</td>\n",
              "      <td>22.833333</td>\n",
              "      <td>380</td>\n",
              "      <td>507</td>\n",
              "      <td>[1, 2, 1, 3, 1, 3, 1, 1, 2, 1, 1, 2, 1, 1, 3, ...</td>\n",
              "      <td>2</td>\n",
              "      <td>5.305657</td>\n",
              "    </tr>\n",
              "    <tr>\n",
              "      <th>111</th>\n",
              "      <td>148</td>\n",
              "      <td>https://insights.blackcoffer.com/big-data-anal...</td>\n",
              "      <td>26</td>\n",
              "      <td>44</td>\n",
              "      <td>-0.257143</td>\n",
              "      <td>0.125673</td>\n",
              "      <td>16.820896</td>\n",
              "      <td>0.371783</td>\n",
              "      <td>6.877072</td>\n",
              "      <td>16.820896</td>\n",
              "      <td>419</td>\n",
              "      <td>557</td>\n",
              "      <td>[1, 1, 3, 1, 2, 2, 1, 3, 2, 1, 1, 2, 1, 1, 3, ...</td>\n",
              "      <td>2</td>\n",
              "      <td>5.187223</td>\n",
              "    </tr>\n",
              "    <tr>\n",
              "      <th>112</th>\n",
              "      <td>149</td>\n",
              "      <td>https://insights.blackcoffer.com/business-anal...</td>\n",
              "      <td>27</td>\n",
              "      <td>3</td>\n",
              "      <td>0.800000</td>\n",
              "      <td>0.107143</td>\n",
              "      <td>21.730769</td>\n",
              "      <td>0.405310</td>\n",
              "      <td>8.854432</td>\n",
              "      <td>21.730769</td>\n",
              "      <td>229</td>\n",
              "      <td>280</td>\n",
              "      <td>[2, 3, 1, 1, 2, 2, 3, 1, 1, 4, 3, 2, 1, 4, 1, ...</td>\n",
              "      <td>0</td>\n",
              "      <td>5.683186</td>\n",
              "    </tr>\n",
              "    <tr>\n",
              "      <th>113</th>\n",
              "      <td>150</td>\n",
              "      <td>https://insights.blackcoffer.com/challenges-an...</td>\n",
              "      <td>31</td>\n",
              "      <td>38</td>\n",
              "      <td>-0.101449</td>\n",
              "      <td>0.143154</td>\n",
              "      <td>15.953846</td>\n",
              "      <td>0.331726</td>\n",
              "      <td>6.514229</td>\n",
              "      <td>15.953846</td>\n",
              "      <td>344</td>\n",
              "      <td>482</td>\n",
              "      <td>[2, 1, 4, 1, 1, 1, 1, 2, 1, 2, 1, 1, 1, 1, 1, ...</td>\n",
              "      <td>8</td>\n",
              "      <td>5.125362</td>\n",
              "    </tr>\n",
              "  </tbody>\n",
              "</table>\n",
              "<p>114 rows × 15 columns</p>\n",
              "</div>\n",
              "      <button class=\"colab-df-convert\" onclick=\"convertToInteractive('df-3df07788-3f5f-4b21-9550-006e46c6c786')\"\n",
              "              title=\"Convert this dataframe to an interactive table.\"\n",
              "              style=\"display:none;\">\n",
              "        \n",
              "  <svg xmlns=\"http://www.w3.org/2000/svg\" height=\"24px\"viewBox=\"0 0 24 24\"\n",
              "       width=\"24px\">\n",
              "    <path d=\"M0 0h24v24H0V0z\" fill=\"none\"/>\n",
              "    <path d=\"M18.56 5.44l.94 2.06.94-2.06 2.06-.94-2.06-.94-.94-2.06-.94 2.06-2.06.94zm-11 1L8.5 8.5l.94-2.06 2.06-.94-2.06-.94L8.5 2.5l-.94 2.06-2.06.94zm10 10l.94 2.06.94-2.06 2.06-.94-2.06-.94-.94-2.06-.94 2.06-2.06.94z\"/><path d=\"M17.41 7.96l-1.37-1.37c-.4-.4-.92-.59-1.43-.59-.52 0-1.04.2-1.43.59L10.3 9.45l-7.72 7.72c-.78.78-.78 2.05 0 2.83L4 21.41c.39.39.9.59 1.41.59.51 0 1.02-.2 1.41-.59l7.78-7.78 2.81-2.81c.8-.78.8-2.07 0-2.86zM5.41 20L4 18.59l7.72-7.72 1.47 1.35L5.41 20z\"/>\n",
              "  </svg>\n",
              "      </button>\n",
              "      \n",
              "  <style>\n",
              "    .colab-df-container {\n",
              "      display:flex;\n",
              "      flex-wrap:wrap;\n",
              "      gap: 12px;\n",
              "    }\n",
              "\n",
              "    .colab-df-convert {\n",
              "      background-color: #E8F0FE;\n",
              "      border: none;\n",
              "      border-radius: 50%;\n",
              "      cursor: pointer;\n",
              "      display: none;\n",
              "      fill: #1967D2;\n",
              "      height: 32px;\n",
              "      padding: 0 0 0 0;\n",
              "      width: 32px;\n",
              "    }\n",
              "\n",
              "    .colab-df-convert:hover {\n",
              "      background-color: #E2EBFA;\n",
              "      box-shadow: 0px 1px 2px rgba(60, 64, 67, 0.3), 0px 1px 3px 1px rgba(60, 64, 67, 0.15);\n",
              "      fill: #174EA6;\n",
              "    }\n",
              "\n",
              "    [theme=dark] .colab-df-convert {\n",
              "      background-color: #3B4455;\n",
              "      fill: #D2E3FC;\n",
              "    }\n",
              "\n",
              "    [theme=dark] .colab-df-convert:hover {\n",
              "      background-color: #434B5C;\n",
              "      box-shadow: 0px 1px 3px 1px rgba(0, 0, 0, 0.15);\n",
              "      filter: drop-shadow(0px 1px 2px rgba(0, 0, 0, 0.3));\n",
              "      fill: #FFFFFF;\n",
              "    }\n",
              "  </style>\n",
              "\n",
              "      <script>\n",
              "        const buttonEl =\n",
              "          document.querySelector('#df-3df07788-3f5f-4b21-9550-006e46c6c786 button.colab-df-convert');\n",
              "        buttonEl.style.display =\n",
              "          google.colab.kernel.accessAllowed ? 'block' : 'none';\n",
              "\n",
              "        async function convertToInteractive(key) {\n",
              "          const element = document.querySelector('#df-3df07788-3f5f-4b21-9550-006e46c6c786');\n",
              "          const dataTable =\n",
              "            await google.colab.kernel.invokeFunction('convertToInteractive',\n",
              "                                                     [key], {});\n",
              "          if (!dataTable) return;\n",
              "\n",
              "          const docLinkHtml = 'Like what you see? Visit the ' +\n",
              "            '<a target=\"_blank\" href=https://colab.research.google.com/notebooks/data_table.ipynb>data table notebook</a>'\n",
              "            + ' to learn more about interactive tables.';\n",
              "          element.innerHTML = '';\n",
              "          dataTable['output_type'] = 'display_data';\n",
              "          await google.colab.output.renderOutput(dataTable, element);\n",
              "          const docLink = document.createElement('div');\n",
              "          docLink.innerHTML = docLinkHtml;\n",
              "          element.appendChild(docLink);\n",
              "        }\n",
              "      </script>\n",
              "    </div>\n",
              "  </div>\n",
              "  "
            ]
          },
          "metadata": {},
          "execution_count": 296
        }
      ]
    },
    {
      "cell_type": "code",
      "source": [],
      "metadata": {
        "id": "HzFqiaTKkeSa"
      },
      "execution_count": null,
      "outputs": []
    }
  ]
}